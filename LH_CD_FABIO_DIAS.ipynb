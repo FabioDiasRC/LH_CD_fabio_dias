{
 "cells": [
  {
   "cell_type": "markdown",
   "metadata": {},
   "source": [
    "# Desafio Indicium para Cientista de dados\n",
    "<b>Nome:</b> Fábio Dias Rezende Carvalho </br>\n",
    "<b>E-mail:</b> fabior.carvalho@hotmail.com </br>\n",
    "O seguinte trabalho tem por objetivo avaliar minha capacidade técnica em resolução de problemas, analise e exploração de dados, assim como aplicação de modelo de machine learning."
   ]
  },
  {
   "cell_type": "markdown",
   "metadata": {},
   "source": [
    "## Desafio\n",
    "Desenvolver uma plataforma de alugueis temporários na cidade de Nova York. O objetivo é desenvolver um modelo de previsão de preços, baseado no conjunto de dados descrito como 'teste_indicium_precificacao.csv', e avaliar o modelo utilizando as métricas de avaliação cabiveis ao problema."
   ]
  },
  {
   "cell_type": "markdown",
   "metadata": {},
   "source": [
    "#### Entregas\n",
    "<ul>\n",
    "  <li><b>Análise exploratória:</b> fazer uma análise exploratória dos dados demonstrando as principais características entre as variáveis e apresentando algumas hipóteses de negócio relacionadas.</li>\n",
    "  <li><b>Responder as seguintes perguntnas:</b> \n",
    "  <ul>\n",
    "    <li>Supondo que uma pessoa esteja pensando em investir em um apartamento para alugar na plataforma, onde seria mais indicada a\n",
    "    compra?</li>\n",
    "    <li>O número mínimo de noites e a disponibilidade ao longo do ano interferem no preço?</li>\n",
    "    <li>Existe algum padrão no texto do nome do local para lugares de mais alto valor?</li>\n",
    "  </ul></li>\n",
    "  <li><b>Preço:</b> Como fazer a previsão do preço com base nos dados. Quais variáveis e/ou suas transformações você utilizou e por quê? Qual tipo de problema estamos resolvendo (regressão, classificação)? Qual modelo melhor se aproxima dos dados e quais seus prós e contras? Qual medida de performance do modelo foi escolhida e por quê?</li>\n",
    "  <li><b>Sugestão de preço:</b>Encontrar a sugestão de preço para um apartamento com as caracteristicas dadas.</li>\n",
    "  <li><b>Modelo:</b>Deve ser entregue no formato '.pkl'.</li> \n",
    "</ul>"
   ]
  },
  {
   "cell_type": "markdown",
   "metadata": {},
   "source": [
    "# Exploraçao de dados"
   ]
  },
  {
   "cell_type": "code",
   "execution_count": 187,
   "metadata": {},
   "outputs": [
    {
     "data": {
      "text/html": [
       "<div>\n",
       "<style scoped>\n",
       "    .dataframe tbody tr th:only-of-type {\n",
       "        vertical-align: middle;\n",
       "    }\n",
       "\n",
       "    .dataframe tbody tr th {\n",
       "        vertical-align: top;\n",
       "    }\n",
       "\n",
       "    .dataframe thead th {\n",
       "        text-align: right;\n",
       "    }\n",
       "</style>\n",
       "<table border=\"1\" class=\"dataframe\">\n",
       "  <thead>\n",
       "    <tr style=\"text-align: right;\">\n",
       "      <th></th>\n",
       "      <th>id</th>\n",
       "      <th>nome</th>\n",
       "      <th>host_id</th>\n",
       "      <th>host_name</th>\n",
       "      <th>bairro_group</th>\n",
       "      <th>bairro</th>\n",
       "      <th>latitude</th>\n",
       "      <th>longitude</th>\n",
       "      <th>room_type</th>\n",
       "      <th>price</th>\n",
       "      <th>minimo_noites</th>\n",
       "      <th>numero_de_reviews</th>\n",
       "      <th>ultima_review</th>\n",
       "      <th>reviews_por_mes</th>\n",
       "      <th>calculado_host_listings_count</th>\n",
       "      <th>disponibilidade_365</th>\n",
       "    </tr>\n",
       "  </thead>\n",
       "  <tbody>\n",
       "    <tr>\n",
       "      <th>0</th>\n",
       "      <td>2595</td>\n",
       "      <td>Skylit Midtown Castle</td>\n",
       "      <td>2845</td>\n",
       "      <td>Jennifer</td>\n",
       "      <td>Manhattan</td>\n",
       "      <td>Midtown</td>\n",
       "      <td>40.75362</td>\n",
       "      <td>-73.98377</td>\n",
       "      <td>Entire home/apt</td>\n",
       "      <td>225</td>\n",
       "      <td>1</td>\n",
       "      <td>45</td>\n",
       "      <td>2019-05-21</td>\n",
       "      <td>0.38</td>\n",
       "      <td>2</td>\n",
       "      <td>355</td>\n",
       "    </tr>\n",
       "    <tr>\n",
       "      <th>1</th>\n",
       "      <td>3647</td>\n",
       "      <td>THE VILLAGE OF HARLEM....NEW YORK !</td>\n",
       "      <td>4632</td>\n",
       "      <td>Elisabeth</td>\n",
       "      <td>Manhattan</td>\n",
       "      <td>Harlem</td>\n",
       "      <td>40.80902</td>\n",
       "      <td>-73.94190</td>\n",
       "      <td>Private room</td>\n",
       "      <td>150</td>\n",
       "      <td>3</td>\n",
       "      <td>0</td>\n",
       "      <td>NaN</td>\n",
       "      <td>NaN</td>\n",
       "      <td>1</td>\n",
       "      <td>365</td>\n",
       "    </tr>\n",
       "    <tr>\n",
       "      <th>2</th>\n",
       "      <td>3831</td>\n",
       "      <td>Cozy Entire Floor of Brownstone</td>\n",
       "      <td>4869</td>\n",
       "      <td>LisaRoxanne</td>\n",
       "      <td>Brooklyn</td>\n",
       "      <td>Clinton Hill</td>\n",
       "      <td>40.68514</td>\n",
       "      <td>-73.95976</td>\n",
       "      <td>Entire home/apt</td>\n",
       "      <td>89</td>\n",
       "      <td>1</td>\n",
       "      <td>270</td>\n",
       "      <td>2019-07-05</td>\n",
       "      <td>4.64</td>\n",
       "      <td>1</td>\n",
       "      <td>194</td>\n",
       "    </tr>\n",
       "    <tr>\n",
       "      <th>3</th>\n",
       "      <td>5022</td>\n",
       "      <td>Entire Apt: Spacious Studio/Loft by central park</td>\n",
       "      <td>7192</td>\n",
       "      <td>Laura</td>\n",
       "      <td>Manhattan</td>\n",
       "      <td>East Harlem</td>\n",
       "      <td>40.79851</td>\n",
       "      <td>-73.94399</td>\n",
       "      <td>Entire home/apt</td>\n",
       "      <td>80</td>\n",
       "      <td>10</td>\n",
       "      <td>9</td>\n",
       "      <td>2018-11-19</td>\n",
       "      <td>0.10</td>\n",
       "      <td>1</td>\n",
       "      <td>0</td>\n",
       "    </tr>\n",
       "    <tr>\n",
       "      <th>4</th>\n",
       "      <td>5099</td>\n",
       "      <td>Large Cozy 1 BR Apartment In Midtown East</td>\n",
       "      <td>7322</td>\n",
       "      <td>Chris</td>\n",
       "      <td>Manhattan</td>\n",
       "      <td>Murray Hill</td>\n",
       "      <td>40.74767</td>\n",
       "      <td>-73.97500</td>\n",
       "      <td>Entire home/apt</td>\n",
       "      <td>200</td>\n",
       "      <td>3</td>\n",
       "      <td>74</td>\n",
       "      <td>2019-06-22</td>\n",
       "      <td>0.59</td>\n",
       "      <td>1</td>\n",
       "      <td>129</td>\n",
       "    </tr>\n",
       "  </tbody>\n",
       "</table>\n",
       "</div>"
      ],
      "text/plain": [
       "     id                                              nome  host_id  \\\n",
       "0  2595                             Skylit Midtown Castle     2845   \n",
       "1  3647               THE VILLAGE OF HARLEM....NEW YORK !     4632   \n",
       "2  3831                   Cozy Entire Floor of Brownstone     4869   \n",
       "3  5022  Entire Apt: Spacious Studio/Loft by central park     7192   \n",
       "4  5099         Large Cozy 1 BR Apartment In Midtown East     7322   \n",
       "\n",
       "     host_name bairro_group        bairro  latitude  longitude  \\\n",
       "0     Jennifer    Manhattan       Midtown  40.75362  -73.98377   \n",
       "1    Elisabeth    Manhattan        Harlem  40.80902  -73.94190   \n",
       "2  LisaRoxanne     Brooklyn  Clinton Hill  40.68514  -73.95976   \n",
       "3        Laura    Manhattan   East Harlem  40.79851  -73.94399   \n",
       "4        Chris    Manhattan   Murray Hill  40.74767  -73.97500   \n",
       "\n",
       "         room_type  price  minimo_noites  numero_de_reviews ultima_review  \\\n",
       "0  Entire home/apt    225              1                 45    2019-05-21   \n",
       "1     Private room    150              3                  0           NaN   \n",
       "2  Entire home/apt     89              1                270    2019-07-05   \n",
       "3  Entire home/apt     80             10                  9    2018-11-19   \n",
       "4  Entire home/apt    200              3                 74    2019-06-22   \n",
       "\n",
       "   reviews_por_mes  calculado_host_listings_count  disponibilidade_365  \n",
       "0             0.38                              2                  355  \n",
       "1              NaN                              1                  365  \n",
       "2             4.64                              1                  194  \n",
       "3             0.10                              1                    0  \n",
       "4             0.59                              1                  129  "
      ]
     },
     "execution_count": 187,
     "metadata": {},
     "output_type": "execute_result"
    }
   ],
   "source": [
    "import pandas as pd\n",
    "\n",
    "dados = pd.read_csv('src/teste_indicium_precificacao.csv')\n",
    "dados.head()"
   ]
  },
  {
   "cell_type": "code",
   "execution_count": 188,
   "metadata": {},
   "outputs": [
    {
     "name": "stdout",
     "output_type": "stream",
     "text": [
      "<class 'pandas.core.frame.DataFrame'>\n",
      "RangeIndex: 48894 entries, 0 to 48893\n",
      "Data columns (total 16 columns):\n",
      " #   Column                         Non-Null Count  Dtype  \n",
      "---  ------                         --------------  -----  \n",
      " 0   id                             48894 non-null  int64  \n",
      " 1   nome                           48878 non-null  object \n",
      " 2   host_id                        48894 non-null  int64  \n",
      " 3   host_name                      48873 non-null  object \n",
      " 4   bairro_group                   48894 non-null  object \n",
      " 5   bairro                         48894 non-null  object \n",
      " 6   latitude                       48894 non-null  float64\n",
      " 7   longitude                      48894 non-null  float64\n",
      " 8   room_type                      48894 non-null  object \n",
      " 9   price                          48894 non-null  int64  \n",
      " 10  minimo_noites                  48894 non-null  int64  \n",
      " 11  numero_de_reviews              48894 non-null  int64  \n",
      " 12  ultima_review                  38842 non-null  object \n",
      " 13  reviews_por_mes                38842 non-null  float64\n",
      " 14  calculado_host_listings_count  48894 non-null  int64  \n",
      " 15  disponibilidade_365            48894 non-null  int64  \n",
      "dtypes: float64(3), int64(7), object(6)\n",
      "memory usage: 6.0+ MB\n"
     ]
    }
   ],
   "source": [
    "dados.info()"
   ]
  },
  {
   "cell_type": "markdown",
   "metadata": {},
   "source": [
    "Abaixo fiz pequenas consultas que deixarei comentado, mas elas fizeram a base para a tomada de decisões que vem na sequência."
   ]
  },
  {
   "cell_type": "code",
   "execution_count": 189,
   "metadata": {},
   "outputs": [],
   "source": [
    "#dados.query('nome.isnull()')\n",
    "#dados.query('host_name.isnull()')\n",
    "#38894/dados.shape[0]"
   ]
  },
  {
   "cell_type": "markdown",
   "metadata": {},
   "source": [
    "Aqui observamos que existem valores nulos em algumas colunas. Nas colunas 'nome'(16 valores) e 'host_name'(21 valores) tem-se poucos valores nulos e a falta de nome, apesar de ser uma analise pedida na entrega, será mantida para preservar as informações nelas contidas.\n",
    "\n",
    "Já as colunas 'ultima_review' e 'reviews_por_mes' possuem mais de 20% de valores nulos dentro dessas colunas, para não ter perda das informações das linhas referentes estou decidindo por remover ambas as colunas por completo.\n",
    "\n"
   ]
  },
  {
   "cell_type": "code",
   "execution_count": 190,
   "metadata": {},
   "outputs": [
    {
     "data": {
      "text/plain": [
       "(48894, 14)"
      ]
     },
     "execution_count": 190,
     "metadata": {},
     "output_type": "execute_result"
    }
   ],
   "source": [
    "dados = dados.drop(columns=['ultima_review', 'reviews_por_mes'])\n",
    "dados.shape"
   ]
  },
  {
   "cell_type": "markdown",
   "metadata": {},
   "source": [
    "## Comportamento e relação entre os dados"
   ]
  },
  {
   "cell_type": "code",
   "execution_count": 191,
   "metadata": {},
   "outputs": [
    {
     "data": {
      "text/html": [
       "<div>\n",
       "<style scoped>\n",
       "    .dataframe tbody tr th:only-of-type {\n",
       "        vertical-align: middle;\n",
       "    }\n",
       "\n",
       "    .dataframe tbody tr th {\n",
       "        vertical-align: top;\n",
       "    }\n",
       "\n",
       "    .dataframe thead th {\n",
       "        text-align: right;\n",
       "    }\n",
       "</style>\n",
       "<table border=\"1\" class=\"dataframe\">\n",
       "  <thead>\n",
       "    <tr style=\"text-align: right;\">\n",
       "      <th></th>\n",
       "      <th>id</th>\n",
       "      <th>host_id</th>\n",
       "      <th>latitude</th>\n",
       "      <th>longitude</th>\n",
       "      <th>price</th>\n",
       "      <th>minimo_noites</th>\n",
       "      <th>numero_de_reviews</th>\n",
       "      <th>calculado_host_listings_count</th>\n",
       "      <th>disponibilidade_365</th>\n",
       "    </tr>\n",
       "  </thead>\n",
       "  <tbody>\n",
       "    <tr>\n",
       "      <th>count</th>\n",
       "      <td>4.889400e+04</td>\n",
       "      <td>4.889400e+04</td>\n",
       "      <td>48894.000000</td>\n",
       "      <td>48894.000000</td>\n",
       "      <td>48894.000000</td>\n",
       "      <td>48894.000000</td>\n",
       "      <td>48894.000000</td>\n",
       "      <td>48894.000000</td>\n",
       "      <td>48894.000000</td>\n",
       "    </tr>\n",
       "    <tr>\n",
       "      <th>mean</th>\n",
       "      <td>1.901753e+07</td>\n",
       "      <td>6.762139e+07</td>\n",
       "      <td>40.728951</td>\n",
       "      <td>-73.952169</td>\n",
       "      <td>152.720763</td>\n",
       "      <td>7.030085</td>\n",
       "      <td>23.274758</td>\n",
       "      <td>7.144005</td>\n",
       "      <td>112.776169</td>\n",
       "    </tr>\n",
       "    <tr>\n",
       "      <th>std</th>\n",
       "      <td>1.098288e+07</td>\n",
       "      <td>7.861118e+07</td>\n",
       "      <td>0.054529</td>\n",
       "      <td>0.046157</td>\n",
       "      <td>240.156625</td>\n",
       "      <td>20.510741</td>\n",
       "      <td>44.550991</td>\n",
       "      <td>32.952855</td>\n",
       "      <td>131.618692</td>\n",
       "    </tr>\n",
       "    <tr>\n",
       "      <th>min</th>\n",
       "      <td>2.595000e+03</td>\n",
       "      <td>2.438000e+03</td>\n",
       "      <td>40.499790</td>\n",
       "      <td>-74.244420</td>\n",
       "      <td>0.000000</td>\n",
       "      <td>1.000000</td>\n",
       "      <td>0.000000</td>\n",
       "      <td>1.000000</td>\n",
       "      <td>0.000000</td>\n",
       "    </tr>\n",
       "    <tr>\n",
       "      <th>25%</th>\n",
       "      <td>9.472371e+06</td>\n",
       "      <td>7.822737e+06</td>\n",
       "      <td>40.690100</td>\n",
       "      <td>-73.983070</td>\n",
       "      <td>69.000000</td>\n",
       "      <td>1.000000</td>\n",
       "      <td>1.000000</td>\n",
       "      <td>1.000000</td>\n",
       "      <td>0.000000</td>\n",
       "    </tr>\n",
       "    <tr>\n",
       "      <th>50%</th>\n",
       "      <td>1.967743e+07</td>\n",
       "      <td>3.079553e+07</td>\n",
       "      <td>40.723075</td>\n",
       "      <td>-73.955680</td>\n",
       "      <td>106.000000</td>\n",
       "      <td>3.000000</td>\n",
       "      <td>5.000000</td>\n",
       "      <td>1.000000</td>\n",
       "      <td>45.000000</td>\n",
       "    </tr>\n",
       "    <tr>\n",
       "      <th>75%</th>\n",
       "      <td>2.915225e+07</td>\n",
       "      <td>1.074344e+08</td>\n",
       "      <td>40.763117</td>\n",
       "      <td>-73.936273</td>\n",
       "      <td>175.000000</td>\n",
       "      <td>5.000000</td>\n",
       "      <td>24.000000</td>\n",
       "      <td>2.000000</td>\n",
       "      <td>227.000000</td>\n",
       "    </tr>\n",
       "    <tr>\n",
       "      <th>max</th>\n",
       "      <td>3.648724e+07</td>\n",
       "      <td>2.743213e+08</td>\n",
       "      <td>40.913060</td>\n",
       "      <td>-73.712990</td>\n",
       "      <td>10000.000000</td>\n",
       "      <td>1250.000000</td>\n",
       "      <td>629.000000</td>\n",
       "      <td>327.000000</td>\n",
       "      <td>365.000000</td>\n",
       "    </tr>\n",
       "  </tbody>\n",
       "</table>\n",
       "</div>"
      ],
      "text/plain": [
       "                 id       host_id      latitude     longitude         price  \\\n",
       "count  4.889400e+04  4.889400e+04  48894.000000  48894.000000  48894.000000   \n",
       "mean   1.901753e+07  6.762139e+07     40.728951    -73.952169    152.720763   \n",
       "std    1.098288e+07  7.861118e+07      0.054529      0.046157    240.156625   \n",
       "min    2.595000e+03  2.438000e+03     40.499790    -74.244420      0.000000   \n",
       "25%    9.472371e+06  7.822737e+06     40.690100    -73.983070     69.000000   \n",
       "50%    1.967743e+07  3.079553e+07     40.723075    -73.955680    106.000000   \n",
       "75%    2.915225e+07  1.074344e+08     40.763117    -73.936273    175.000000   \n",
       "max    3.648724e+07  2.743213e+08     40.913060    -73.712990  10000.000000   \n",
       "\n",
       "       minimo_noites  numero_de_reviews  calculado_host_listings_count  \\\n",
       "count   48894.000000       48894.000000                   48894.000000   \n",
       "mean        7.030085          23.274758                       7.144005   \n",
       "std        20.510741          44.550991                      32.952855   \n",
       "min         1.000000           0.000000                       1.000000   \n",
       "25%         1.000000           1.000000                       1.000000   \n",
       "50%         3.000000           5.000000                       1.000000   \n",
       "75%         5.000000          24.000000                       2.000000   \n",
       "max      1250.000000         629.000000                     327.000000   \n",
       "\n",
       "       disponibilidade_365  \n",
       "count         48894.000000  \n",
       "mean            112.776169  \n",
       "std             131.618692  \n",
       "min               0.000000  \n",
       "25%               0.000000  \n",
       "50%              45.000000  \n",
       "75%             227.000000  \n",
       "max             365.000000  "
      ]
     },
     "execution_count": 191,
     "metadata": {},
     "output_type": "execute_result"
    }
   ],
   "source": [
    "dados.describe()"
   ]
  },
  {
   "cell_type": "markdown",
   "metadata": {},
   "source": [
    "Aqui podemos observar alguns pontos relevantes dentro do nosso conjunto de dados.\n",
    "* <b>price -</b> Aqui com o describe podemos observar que existe um valor de zero como minimo, o que ja afeta nosso conjunto de dados, e um valor máximo muito acima em relação ao 75% superior, o que também eleva o valor resultante da média, também influenciando no desvio padrão. Farei uma análise visual dos boxplots em sequência para confirmar os outliers e tomar decisoes mais precisas;\n",
    "* <b>disponibilidade_365 -</b> Podemos observar que existem casas dentro do nosso dataset que não possui disponibilidade, isso é relevante de se observar para a pergunta <b>sobre considerar um investimento em uma casa em NY para alugar</b>, uma vez que considerando como um investimento o lucro máximo dessa casa vai se dar quando ela estiver ocupada em todos os dias do ano.\n",
    "* <b>minimo_noites -</b> O dataset traz que a maior parte do nosso conjunto de dados possui alugueis de noites unicas, ou poucos dias em sequência, onde no 75% tem-se apenas 5 noite, e o máximo vai até 1250, ou seja, temos uma forte influencia do valor máximo e possiveis outiliers nessa coluna do nosso conjunto de dados."
   ]
  },
  {
   "cell_type": "code",
   "execution_count": 192,
   "metadata": {},
   "outputs": [],
   "source": [
    "#removendo as casas que possuem valor zero de aluguel\n",
    "dados = dados.drop(dados[dados.price ==  0].index)"
   ]
  },
  {
   "cell_type": "code",
   "execution_count": 193,
   "metadata": {},
   "outputs": [
    {
     "data": {
      "text/plain": [
       "array(['Manhattan', 'Brooklyn', 'Queens', 'Staten Island', 'Bronx'],\n",
       "      dtype=object)"
      ]
     },
     "execution_count": 193,
     "metadata": {},
     "output_type": "execute_result"
    }
   ],
   "source": [
    "dados.bairro_group.unique()"
   ]
  },
  {
   "cell_type": "markdown",
   "metadata": {},
   "source": [
    "Os valores únicos de nome de regiões também serão analisados, uma vez que a <b>região do imóvel vai influenciar diretamente no preço desse imóvel, então também trabalharemos com análises mais detalhadas desse nosso fator no nosso conjunto de dados</b>."
   ]
  },
  {
   "cell_type": "markdown",
   "metadata": {},
   "source": [
    "# As perguntas que norteiam o projeto"
   ]
  },
  {
   "cell_type": "markdown",
   "metadata": {},
   "source": [
    "## Investimento residencial\n",
    "Considerando que uma pessoa busca investir em uma casa ela precisa focar em regiões que possuem menos dias disponiveis para aluguel, coluna denominada como 'disponibilidade_365', por que se tem menos dias disponiveis significa que ela esta ficando mais tempo alugada, o que representa maior retorno do investimento. O preço referente ao aluguel ela consegue definir com o modelo que será desenvolvido futuramente nesse arquivo. "
   ]
  },
  {
   "cell_type": "code",
   "execution_count": 194,
   "metadata": {},
   "outputs": [
    {
     "data": {
      "image/png": "[encoded data removed]",
      "text/plain": [
       "<Figure size 800x400 with 1 Axes>"
      ]
     },
     "metadata": {},
     "output_type": "display_data"
    }
   ],
   "source": [
    "import seaborn as sns\n",
    "\n",
    "boxplot = sns.boxplot(x='bairro_group', y='disponibilidade_365', data=dados)\n",
    "boxplot.figure.set_size_inches(8,4)\n",
    "boxplot.set_title('Disponibilidade para aluguel por região');"
   ]
  },
  {
   "cell_type": "markdown",
   "metadata": {},
   "source": [
    "Com o código acima separamos os grupos de regiões e podemos observar que a área de Manhattan e Brooklyn possuem menos dias disponiveis que os outros locais do nosso grupo, o que já indica que essas regiões possuem o mercado de aluguel mais aquecido e são a melhor pedida para um investimento de imóvel para alugar.<br>\n",
    "Temos que o bairro do Brooklyn possue uma média de dias disponiveis um pouco mais baixa que Manhattan, mas vamos verificar numericamente esses valores do boxplot para ficar mais acertivo nessa afirmação de investimento."
   ]
  },
  {
   "cell_type": "code",
   "execution_count": 195,
   "metadata": {},
   "outputs": [
    {
     "data": {
      "text/plain": [
       "count    21660.000000\n",
       "mean       111.984580\n",
       "std        132.678717\n",
       "min          0.000000\n",
       "25%          0.000000\n",
       "50%         36.000000\n",
       "75%        230.000000\n",
       "max        365.000000\n",
       "Name: disponibilidade_365, dtype: float64"
      ]
     },
     "execution_count": 195,
     "metadata": {},
     "output_type": "execute_result"
    }
   ],
   "source": [
    "dados_manhattan = dados.loc[dados['bairro_group'] == 'Manhattan']\n",
    "dados_brooklyn = dados.loc[dados['bairro_group'] == 'Brooklyn']\n",
    "\n",
    "dados_manhattan.describe()['disponibilidade_365']"
   ]
  },
  {
   "cell_type": "code",
   "execution_count": 196,
   "metadata": {},
   "outputs": [
    {
     "data": {
      "text/plain": [
       "count    20094.000000\n",
       "mean       100.204141\n",
       "std        126.269798\n",
       "min          0.000000\n",
       "25%          0.000000\n",
       "50%         28.000000\n",
       "75%        188.000000\n",
       "max        365.000000\n",
       "Name: disponibilidade_365, dtype: float64"
      ]
     },
     "execution_count": 196,
     "metadata": {},
     "output_type": "execute_result"
    }
   ],
   "source": [
    "dados_brooklyn.describe()['disponibilidade_365']"
   ]
  },
  {
   "cell_type": "markdown",
   "metadata": {},
   "source": [
    "Aqui utilizamos o describe separadamente por região para demonstrar que os valores médios e quartis de disponibilidade dentro dos bairros apresenta uma indicação que a região do Brooklyn consegue ficar mais tempo ocupado que Manhattan, então a indicação seria de investimento em um imóvel no Brooklyn, mas um investimento em Manhattan também é uma boa opção baseada nas regiões e também considerando que a região de Manhattan possui imóveis com aluguel mais elevado, o que pode ser considerado na hora da escolha da compra do imóvel."
   ]
  },
  {
   "cell_type": "markdown",
   "metadata": {},
   "source": [
    "## Análise do número mínimo de noites e disponibilidade ao longo do ano\n",
    "Para verificar a relação de preço com o número mínimo de noite e disponibilidade ao longo do ano vamos fazer uma análise gráfica dessas  variaveis do nosso grupo de dados referentes ao preço, além de uma matriz de correlação."
   ]
  },
  {
   "cell_type": "code",
   "execution_count": 197,
   "metadata": {},
   "outputs": [
    {
     "data": {
      "image/png": "[encoded data removed]",
      "text/plain": [
       "<Figure size 1000x500 with 1 Axes>"
      ]
     },
     "metadata": {},
     "output_type": "display_data"
    }
   ],
   "source": [
    "grafico = dados.plot.scatter(x='minimo_noites', y='price', figsize=(10,5))\n",
    "grafico.set_title('Variação de preços pela quantidade de noites minimas');"
   ]
  },
  {
   "cell_type": "markdown",
   "metadata": {},
   "source": [
    "Com o gráfico podemos observar que conforme o número de noites mininas aumenta o preço do aluguel cai. Importante frisar que já no nosso describe é perceptivel a presença de outliers dentro do nosso grupo de dados, mas isso ocorre também devido ao fato de termos outliers de noites minimas dentro do nosso grupo de dados."
   ]
  },
  {
   "cell_type": "code",
   "execution_count": 198,
   "metadata": {},
   "outputs": [
    {
     "data": {
      "image/png": "[encoded data removed]",
      "text/plain": [
       "<Figure size 800x400 with 1 Axes>"
      ]
     },
     "metadata": {},
     "output_type": "display_data"
    }
   ],
   "source": [
    "boxplot = dados.boxplot(column='minimo_noites',figsize=(6,4), vert=False)\n",
    "boxplot.figure.set_size_inches(8,4)\n",
    "boxplot.set_title('Boxplot do minimo de noites');"
   ]
  },
  {
   "cell_type": "markdown",
   "metadata": {},
   "source": [
    "Uma análise visual do nosso conjunto de dados com os valores mais próximos do nosso boxplot será interessante."
   ]
  },
  {
   "cell_type": "code",
   "execution_count": 199,
   "metadata": {},
   "outputs": [
    {
     "data": {
      "image/png": "[encoded data removed]",
      "text/plain": [
       "<Figure size 800x500 with 1 Axes>"
      ]
     },
     "metadata": {},
     "output_type": "display_data"
    }
   ],
   "source": [
    "#definindo um filtro para auxiliar na visualização sem a grande quantidade de outliers\n",
    "filtro = dados[dados['minimo_noites'] <  10]\n",
    "grafico = filtro.plot.scatter(x='minimo_noites', y='price', figsize=(8,5))\n",
    "grafico.set_title('Variação de preços pela quantidade de noites minimas');"
   ]
  },
  {
   "cell_type": "markdown",
   "metadata": {},
   "source": [
    "Conforme nosso número minimo de noites aumenta existe uma queda dos preços dentro do noss grupo de dados.<br>\n",
    "Agora vamos observar o comportamento do nosso conjunto de dados para a variação de preço com a disponibilidade durante o ano como um todo."
   ]
  },
  {
   "cell_type": "code",
   "execution_count": 200,
   "metadata": {},
   "outputs": [
    {
     "data": {
      "image/png": "[encoded data removed]",
      "text/plain": [
       "<Figure size 1000x500 with 1 Axes>"
      ]
     },
     "metadata": {},
     "output_type": "display_data"
    }
   ],
   "source": [
    "grafico = dados.plot.scatter(x='disponibilidade_365', y='price', figsize=(10,5));\n",
    "grafico.set_title('Variação de preços devido a disponibilidade durante o ano');"
   ]
  },
  {
   "cell_type": "code",
   "execution_count": 201,
   "metadata": {},
   "outputs": [
    {
     "data": {
      "image/png": "[encoded data removed]",
      "text/plain": [
       "<Figure size 800x400 with 1 Axes>"
      ]
     },
     "metadata": {},
     "output_type": "display_data"
    }
   ],
   "source": [
    "boxplot = dados.boxplot(column='disponibilidade_365',figsize=(6,4), vert=False)\n",
    "boxplot.figure.set_size_inches(8,4)\n",
    "boxplot.set_title('Disponibilidade para aluguel durante o ano');"
   ]
  },
  {
   "cell_type": "markdown",
   "metadata": {},
   "source": [
    "Vemos uma concentração grande de disponibilidade mais baixa dentro do nosso conjunto de dados, o que indica que boa parte do tempo as casas do nosso conjunto de dados está reservada."
   ]
  },
  {
   "cell_type": "code",
   "execution_count": 202,
   "metadata": {},
   "outputs": [
    {
     "data": {
      "text/html": [
       "<div>\n",
       "<style scoped>\n",
       "    .dataframe tbody tr th:only-of-type {\n",
       "        vertical-align: middle;\n",
       "    }\n",
       "\n",
       "    .dataframe tbody tr th {\n",
       "        vertical-align: top;\n",
       "    }\n",
       "\n",
       "    .dataframe thead th {\n",
       "        text-align: right;\n",
       "    }\n",
       "</style>\n",
       "<table border=\"1\" class=\"dataframe\">\n",
       "  <thead>\n",
       "    <tr style=\"text-align: right;\">\n",
       "      <th></th>\n",
       "      <th>price</th>\n",
       "      <th>minimo_noites</th>\n",
       "      <th>disponibilidade_365</th>\n",
       "    </tr>\n",
       "  </thead>\n",
       "  <tbody>\n",
       "    <tr>\n",
       "      <th>price</th>\n",
       "      <td>1.000000</td>\n",
       "      <td>0.042805</td>\n",
       "      <td>0.081851</td>\n",
       "    </tr>\n",
       "    <tr>\n",
       "      <th>minimo_noites</th>\n",
       "      <td>0.042805</td>\n",
       "      <td>1.000000</td>\n",
       "      <td>0.144292</td>\n",
       "    </tr>\n",
       "    <tr>\n",
       "      <th>disponibilidade_365</th>\n",
       "      <td>0.081851</td>\n",
       "      <td>0.144292</td>\n",
       "      <td>1.000000</td>\n",
       "    </tr>\n",
       "  </tbody>\n",
       "</table>\n",
       "</div>"
      ],
      "text/plain": [
       "                        price  minimo_noites  disponibilidade_365\n",
       "price                1.000000       0.042805             0.081851\n",
       "minimo_noites        0.042805       1.000000             0.144292\n",
       "disponibilidade_365  0.081851       0.144292             1.000000"
      ]
     },
     "execution_count": 202,
     "metadata": {},
     "output_type": "execute_result"
    }
   ],
   "source": [
    "# matriz de correlação.\n",
    "dados[['price','minimo_noites','disponibilidade_365']].corr()"
   ]
  },
  {
   "cell_type": "markdown",
   "metadata": {},
   "source": [
    "A matriz de correlação define a correlação entre os fatores nela indicado, variando de -1 a 1 dentro da matriz, onde -1 é um fator diretamente negativo (que influencia de forma negativa o valor de relação que está sendo observado) e +1 e um fator diretamente positvo (que influencia de forma diretamente positiva o valor que estamos observando), então em relação ao preço tem-se que a coluna 'minimo_noites' tem-se uma influencia de 0.042805 no preço e a cada dia disponivel dentro do ano tem-se o fator de 0.081851, logo <b>a disponibilidade durante o ano tem quase o dobro de influencia dentro do conjunto de dados em relação ao minimo de noites dentro do preço.</b></br>\n",
    "Aqui vale ressaltar que o comportamente diz que valor diario cai, mas no total ele influencia no aumento de preço pois ele traz o numero de dias minimos apenas, tanto que na matriz de correlação temos um valor positivo, do contrario traria uma correlação negativa para o conjunto de dados."
   ]
  },
  {
   "cell_type": "markdown",
   "metadata": {},
   "source": [
    "## Padrões do nome do local com o preço\n",
    "Agora vamos verificar se existe correlação direta entre o nome do local com o preço que ele possui. Para isso começaremos olhando os imóveis de maior valor do conjunto de dados."
   ]
  },
  {
   "cell_type": "code",
   "execution_count": 203,
   "metadata": {},
   "outputs": [
    {
     "data": {
      "image/png": "[encoded data removed]",
      "text/plain": [
       "<Figure size 800x400 with 1 Axes>"
      ]
     },
     "metadata": {},
     "output_type": "display_data"
    }
   ],
   "source": [
    "import seaborn as sns\n",
    "\n",
    "boxplot = sns.boxplot(x='bairro_group', y='price', data=dados)\n",
    "boxplot.figure.set_size_inches(8,4)\n",
    "boxplot.set_title('Preços');"
   ]
  },
  {
   "cell_type": "markdown",
   "metadata": {},
   "source": [
    "Aqui já temos um fator importante que é a grande quantidade de outiliers dentro do nosso conjunto de preços, o que será tratado em breve nesse notebook. Mas vale ressaltar também os valores mais elevados nas regiões de Manhattan e Brooklyn, indicando que a afirmação anterior sobre a maior movimentação financeira no quesito imobiliario dentro desses bairros são maiores, fazendo com que o investimento nas regiões seja uma melhor opção."
   ]
  },
  {
   "cell_type": "code",
   "execution_count": 204,
   "metadata": {},
   "outputs": [],
   "source": [
    "#dados.query('price > 1000')"
   ]
  },
  {
   "cell_type": "markdown",
   "metadata": {},
   "source": [
    "Efetuando uma 'query' pelo preço maior que 1000, considerando os imóveis mais caros, tem-se uma observação pela nomenclatura que carrega o termo apartamento, apt, ou loft. Abaixo eu vou verificar se isso realmente acontece com os nomes dos locais mais caros."
   ]
  },
  {
   "cell_type": "code",
   "execution_count": 205,
   "metadata": {},
   "outputs": [],
   "source": [
    "# filtrando apartamentos de alto valor, aqui considerei alto valor maior que 1000, mas pode ser mudado apenas alterando o valor abaixo no filtro\n",
    "filtro_preco = dados.query('price > 1000')\n",
    "\n",
    "#tornar a busca indiferente a letras maiusculas e minusculas\n",
    "import re\n",
    "filtro_nome = filtro_preco[filtro_preco.nome.str.contains('apartment|apt|loft', flags=re.IGNORECASE,  na=False)]"
   ]
  },
  {
   "cell_type": "code",
   "execution_count": 206,
   "metadata": {},
   "outputs": [
    {
     "name": "stdout",
     "output_type": "stream",
     "text": [
      "Dos imoveis acima de $1000, 24.79% levam essas palavras no nome\n"
     ]
    }
   ],
   "source": [
    "# quantidade de valores com preço acima de 1000\n",
    "contador_preco = filtro_preco.nome.value_counts()\n",
    "\n",
    "# quantidade de nomes que levam 'apartment', 'apt' ou 'loft'\n",
    "contador_nomes = filtro_nome.nome.value_counts()\n",
    "\n",
    "#calculando a porcentagem de aparições dentro do filtro\n",
    "print('Dos imoveis acima de $1000, {}% levam essas palavras no nome'.format(round(len(contador_nomes)/len(contador_preco), 4)*100))"
   ]
  },
  {
   "cell_type": "markdown",
   "metadata": {},
   "source": [
    "Então temos aqui que dentro dos imóveis de preço mais elevado encontramos que  aproximadamente 25% deles levam o nome de 'apartament', 'apt' ou 'loft', ou seja, 1/4 levam esse tipo de nome dentro do nosso conjunto de dados.   "
   ]
  },
  {
   "cell_type": "markdown",
   "metadata": {},
   "source": [
    "# Trabalhando com a previsão do preço"
   ]
  },
  {
   "cell_type": "markdown",
   "metadata": {},
   "source": [
    "Aqui eu trabalharei com a pressificação das casas além de descrever as tomadas de decisões e as motivações por trás destas.<br>\n",
    "Como visto anteriormente tem-se uma distribuição de preço dos imóveis com bastante outliers dentro do nosso grupo de dados como um todo, tanto em análise total como em análise por região."
   ]
  },
  {
   "cell_type": "code",
   "execution_count": 207,
   "metadata": {},
   "outputs": [
    {
     "data": {
      "image/png": "[encoded data removed]",
      "text/plain": [
       "<Figure size 800x400 with 1 Axes>"
      ]
     },
     "metadata": {},
     "output_type": "display_data"
    }
   ],
   "source": [
    "boxplot = dados.boxplot(column='price',figsize=(6,4), vert=False)\n",
    "boxplot.figure.set_size_inches(8,4)\n",
    "boxplot.set_title('Boxplot do preço dos imóveis');"
   ]
  },
  {
   "cell_type": "code",
   "execution_count": 208,
   "metadata": {},
   "outputs": [
    {
     "data": {
      "image/png": "[encoded data removed]",
      "text/plain": [
       "<Figure size 800x400 with 1 Axes>"
      ]
     },
     "metadata": {},
     "output_type": "display_data"
    }
   ],
   "source": [
    "boxplot = sns.boxplot(x='bairro_group', y='price', data=dados)\n",
    "boxplot.figure.set_size_inches(8,4)\n",
    "boxplot.set_title('Preços');"
   ]
  },
  {
   "cell_type": "markdown",
   "metadata": {},
   "source": [
    "Então é necessario um tratamento adequado dos dados antes de tentarmos utilizar qualquer tipo de modelo preditivo no nosso conjunto de dados.<br>"
   ]
  },
  {
   "cell_type": "markdown",
   "metadata": {},
   "source": [
    "## Trabalhando com os preços do conjunto de dados\n",
    "A grande diferença desses dados definidos gera uma série de fatores negativos para nosso conjunto de dados, para trabalhar esse fator vamos modificar nossa variavel preço, então devemos <b>buscar uma distribuição normal, que permite maiores possibilidades para nosso conjunto de dados (teste estatiscos e a definição do modelo de machine learning possuem melhor precisão em dados com distribuição normal). Para nosso conjunto de dados vamos aplicar a transformação logaritmica </b>.\n",
    "\n",
    "Importante também ressaltar que nosso problema aqui é um <b>problema de regressão, uma vez que queremos desenvolver um modelo de machine learning que nos possibilite encontrar um valor especifico para os imóveis baseando nos valores que temos dentro do nosso dataset.</b>"
   ]
  },
  {
   "cell_type": "code",
   "execution_count": 209,
   "metadata": {},
   "outputs": [
    {
     "data": {
      "image/png": "[encoded data removed]",
      "text/plain": [
       "<Figure size 600x400 with 1 Axes>"
      ]
     },
     "metadata": {},
     "output_type": "display_data"
    }
   ],
   "source": [
    "import numpy as np\n",
    "\n",
    "dados['log_price'] = np.log(dados.price)\n",
    "\n",
    "# Create the boxplot using the new 'log_price' column\n",
    "boxplot = dados.boxplot(column='log_price', figsize=(6,4), vert=False)"
   ]
  },
  {
   "cell_type": "code",
   "execution_count": 210,
   "metadata": {},
   "outputs": [
    {
     "data": {
      "text/plain": [
       "<seaborn.axisgrid.FacetGrid at 0x7fa6c8356560>"
      ]
     },
     "execution_count": 210,
     "metadata": {},
     "output_type": "execute_result"
    },
    {
     "data": {
      "image/png": "[encoded data removed]",
      "text/plain": [
       "<Figure size 500x500 with 1 Axes>"
      ]
     },
     "metadata": {},
     "output_type": "display_data"
    }
   ],
   "source": [
    "sns.displot(dados['log_price'])"
   ]
  },
  {
   "cell_type": "code",
   "execution_count": 211,
   "metadata": {},
   "outputs": [
    {
     "data": {
      "image/png": "[encoded data removed]",
      "text/plain": [
       "<Figure size 800x400 with 1 Axes>"
      ]
     },
     "metadata": {},
     "output_type": "display_data"
    }
   ],
   "source": [
    "boxplot = sns.boxplot(x='bairro_group', y='log_price', data=dados)\n",
    "boxplot.figure.set_size_inches(8,4)\n",
    "boxplot.set_title('Preços');"
   ]
  },
  {
   "cell_type": "markdown",
   "metadata": {},
   "source": [
    "### Definindo as variáveis do nosso modelo\n",
    "Agora eu vou definir quais varáveis eu vou utilizar no meu modelo. Algumas eu ja irei remover para trabalhar melhor com o conjunto de dados, pois elas nao vao influenciar diretamente no meu modelo (estou considerando que existe uma possivel melhoria do modelo com a utilização da variavel bairro no meu grupo de dados, na seção final desse notebook eu vou descrever melhor isso)."
   ]
  },
  {
   "cell_type": "code",
   "execution_count": 212,
   "metadata": {},
   "outputs": [
    {
     "data": {
      "text/html": [
       "<div>\n",
       "<style scoped>\n",
       "    .dataframe tbody tr th:only-of-type {\n",
       "        vertical-align: middle;\n",
       "    }\n",
       "\n",
       "    .dataframe tbody tr th {\n",
       "        vertical-align: top;\n",
       "    }\n",
       "\n",
       "    .dataframe thead th {\n",
       "        text-align: right;\n",
       "    }\n",
       "</style>\n",
       "<table border=\"1\" class=\"dataframe\">\n",
       "  <thead>\n",
       "    <tr style=\"text-align: right;\">\n",
       "      <th></th>\n",
       "      <th>bairro_group</th>\n",
       "      <th>room_type</th>\n",
       "      <th>price</th>\n",
       "      <th>minimo_noites</th>\n",
       "      <th>numero_de_reviews</th>\n",
       "      <th>calculado_host_listings_count</th>\n",
       "      <th>disponibilidade_365</th>\n",
       "      <th>log_price</th>\n",
       "    </tr>\n",
       "  </thead>\n",
       "  <tbody>\n",
       "    <tr>\n",
       "      <th>0</th>\n",
       "      <td>Manhattan</td>\n",
       "      <td>Entire home/apt</td>\n",
       "      <td>225</td>\n",
       "      <td>1</td>\n",
       "      <td>45</td>\n",
       "      <td>2</td>\n",
       "      <td>355</td>\n",
       "      <td>5.416100</td>\n",
       "    </tr>\n",
       "    <tr>\n",
       "      <th>1</th>\n",
       "      <td>Manhattan</td>\n",
       "      <td>Private room</td>\n",
       "      <td>150</td>\n",
       "      <td>3</td>\n",
       "      <td>0</td>\n",
       "      <td>1</td>\n",
       "      <td>365</td>\n",
       "      <td>5.010635</td>\n",
       "    </tr>\n",
       "    <tr>\n",
       "      <th>2</th>\n",
       "      <td>Brooklyn</td>\n",
       "      <td>Entire home/apt</td>\n",
       "      <td>89</td>\n",
       "      <td>1</td>\n",
       "      <td>270</td>\n",
       "      <td>1</td>\n",
       "      <td>194</td>\n",
       "      <td>4.488636</td>\n",
       "    </tr>\n",
       "    <tr>\n",
       "      <th>3</th>\n",
       "      <td>Manhattan</td>\n",
       "      <td>Entire home/apt</td>\n",
       "      <td>80</td>\n",
       "      <td>10</td>\n",
       "      <td>9</td>\n",
       "      <td>1</td>\n",
       "      <td>0</td>\n",
       "      <td>4.382027</td>\n",
       "    </tr>\n",
       "    <tr>\n",
       "      <th>4</th>\n",
       "      <td>Manhattan</td>\n",
       "      <td>Entire home/apt</td>\n",
       "      <td>200</td>\n",
       "      <td>3</td>\n",
       "      <td>74</td>\n",
       "      <td>1</td>\n",
       "      <td>129</td>\n",
       "      <td>5.298317</td>\n",
       "    </tr>\n",
       "  </tbody>\n",
       "</table>\n",
       "</div>"
      ],
      "text/plain": [
       "  bairro_group        room_type  price  minimo_noites  numero_de_reviews  \\\n",
       "0    Manhattan  Entire home/apt    225              1                 45   \n",
       "1    Manhattan     Private room    150              3                  0   \n",
       "2     Brooklyn  Entire home/apt     89              1                270   \n",
       "3    Manhattan  Entire home/apt     80             10                  9   \n",
       "4    Manhattan  Entire home/apt    200              3                 74   \n",
       "\n",
       "   calculado_host_listings_count  disponibilidade_365  log_price  \n",
       "0                              2                  355   5.416100  \n",
       "1                              1                  365   5.010635  \n",
       "2                              1                  194   4.488636  \n",
       "3                              1                    0   4.382027  \n",
       "4                              1                  129   5.298317  "
      ]
     },
     "execution_count": 212,
     "metadata": {},
     "output_type": "execute_result"
    }
   ],
   "source": [
    "dados = dados.drop(columns=['id', 'nome', 'host_id', 'host_name', 'bairro', 'latitude', 'longitude'])\n",
    "dados.head()"
   ]
  },
  {
   "cell_type": "markdown",
   "metadata": {},
   "source": [
    "Agora que eu retirei essas colunas eu vou mudar meu conjunto de dados para um novo nome e trabalhar com o logaritmo nesse novo conjunto.</br>\n",
    "Vale ressaltar a soma do valor 1 dentro do meu grupo de dados onde possui valor zero dentro da coluna, isso é feito para trabalharmos com o logaritmo em todas as colunas, pois se fosse passar o log do valor zero causaria um erro no código."
   ]
  },
  {
   "cell_type": "code",
   "execution_count": 213,
   "metadata": {},
   "outputs": [
    {
     "data": {
      "text/html": [
       "<div>\n",
       "<style scoped>\n",
       "    .dataframe tbody tr th:only-of-type {\n",
       "        vertical-align: middle;\n",
       "    }\n",
       "\n",
       "    .dataframe tbody tr th {\n",
       "        vertical-align: top;\n",
       "    }\n",
       "\n",
       "    .dataframe thead th {\n",
       "        text-align: right;\n",
       "    }\n",
       "</style>\n",
       "<table border=\"1\" class=\"dataframe\">\n",
       "  <thead>\n",
       "    <tr style=\"text-align: right;\">\n",
       "      <th></th>\n",
       "      <th>bairro_group</th>\n",
       "      <th>room_type</th>\n",
       "      <th>log_price</th>\n",
       "      <th>log_minimo_noites</th>\n",
       "      <th>log_numero_de_reviews</th>\n",
       "      <th>log_calculado_host_listings_count</th>\n",
       "      <th>log_disponibilidade_365</th>\n",
       "    </tr>\n",
       "  </thead>\n",
       "  <tbody>\n",
       "    <tr>\n",
       "      <th>0</th>\n",
       "      <td>Manhattan</td>\n",
       "      <td>Entire home/apt</td>\n",
       "      <td>5.416100</td>\n",
       "      <td>0.000000</td>\n",
       "      <td>3.828641</td>\n",
       "      <td>0.693147</td>\n",
       "      <td>5.874931</td>\n",
       "    </tr>\n",
       "    <tr>\n",
       "      <th>1</th>\n",
       "      <td>Manhattan</td>\n",
       "      <td>Private room</td>\n",
       "      <td>5.010635</td>\n",
       "      <td>1.098612</td>\n",
       "      <td>0.000000</td>\n",
       "      <td>0.000000</td>\n",
       "      <td>5.902633</td>\n",
       "    </tr>\n",
       "  </tbody>\n",
       "</table>\n",
       "</div>"
      ],
      "text/plain": [
       "  bairro_group        room_type  log_price  log_minimo_noites  \\\n",
       "0    Manhattan  Entire home/apt   5.416100           0.000000   \n",
       "1    Manhattan     Private room   5.010635           1.098612   \n",
       "\n",
       "   log_numero_de_reviews  log_calculado_host_listings_count  \\\n",
       "0               3.828641                           0.693147   \n",
       "1               0.000000                           0.000000   \n",
       "\n",
       "   log_disponibilidade_365  \n",
       "0                 5.874931  \n",
       "1                 5.902633  "
      ]
     },
     "execution_count": 213,
     "metadata": {},
     "output_type": "execute_result"
    }
   ],
   "source": [
    "dados['log_minimo_noites'] = np.log(dados.minimo_noites)\n",
    "dados['log_numero_de_reviews'] = np.log(dados.numero_de_reviews + 1)\n",
    "dados['log_calculado_host_listings_count'] = np.log(dados.calculado_host_listings_count)\n",
    "dados['log_disponibilidade_365'] = np.log(dados.disponibilidade_365 + 1)\n",
    "\n",
    "dados_log = dados[['bairro_group','room_type','log_price', 'log_minimo_noites', 'log_numero_de_reviews',\n",
    "                   'log_calculado_host_listings_count', 'log_disponibilidade_365']]\n",
    "dados_log.head(2)"
   ]
  },
  {
   "cell_type": "code",
   "execution_count": 214,
   "metadata": {},
   "outputs": [
    {
     "data": {
      "text/plain": [
       "(48883, 7)"
      ]
     },
     "execution_count": 214,
     "metadata": {},
     "output_type": "execute_result"
    }
   ],
   "source": [
    "dados_log.shape"
   ]
  },
  {
   "cell_type": "markdown",
   "metadata": {},
   "source": [
    "Agora eu preciso trabalhar duas colunas, 'bairro_group' e 'room_type', que estao como 'str' e passar elas para um formato que o computador consiga interpretar na hora de treinar meu modelo, no caso passar para valores numericos, uma vez que a maquina nao interpreta 'str'. "
   ]
  },
  {
   "cell_type": "code",
   "execution_count": 215,
   "metadata": {},
   "outputs": [
    {
     "data": {
      "text/plain": [
       "array(['Manhattan', 'Brooklyn', 'Queens', 'Staten Island', 'Bronx'],\n",
       "      dtype=object)"
      ]
     },
     "execution_count": 215,
     "metadata": {},
     "output_type": "execute_result"
    }
   ],
   "source": [
    "dados_log.bairro_group.unique()"
   ]
  },
  {
   "cell_type": "code",
   "execution_count": 216,
   "metadata": {},
   "outputs": [
    {
     "data": {
      "text/plain": [
       "array(['Entire home/apt', 'Private room', 'Shared room'], dtype=object)"
      ]
     },
     "execution_count": 216,
     "metadata": {},
     "output_type": "execute_result"
    }
   ],
   "source": [
    "dados_log.room_type.unique()"
   ]
  },
  {
   "cell_type": "markdown",
   "metadata": {},
   "source": [
    "#### OneHotEnconding x LabelEnconder\n",
    "Podemos trabalhar com esses dois termos para aplicarmos a transformação do 'bairro_group' e do 'room_type', existem diversos prós e contras por trás dessa escolha e [esse link de referencia](https://towardsdatascience.com/choosing-the-right-encoding-method-label-vs-onehot-encoder-a4434493149b),  assim como [esse outro link](https://contactsunny.medium.com/label-encoder-vs-one-hot-encoder-in-machine-learning-3fc273365621), foram utilizados como base. </br>\n",
    "Aqui estou optando por trabalhar com o OneHotEnconding, por que eu sei que Manhattan tem um preço maior que Brooklyn, e assim vai para as outras regiões, então para evitar introdução de vies e também evitar aplicar algum tipo de ordinalidade que não existe nesse conjunto de dados, eu vou escolher esse tipo, mas importante ressaltar que isso tem um custo computacional e também aumenta significativamente minha dimensionalidade no grupo de dados."
   ]
  },
  {
   "cell_type": "code",
   "execution_count": 217,
   "metadata": {},
   "outputs": [
    {
     "data": {
      "text/html": [
       "<div>\n",
       "<style scoped>\n",
       "    .dataframe tbody tr th:only-of-type {\n",
       "        vertical-align: middle;\n",
       "    }\n",
       "\n",
       "    .dataframe tbody tr th {\n",
       "        vertical-align: top;\n",
       "    }\n",
       "\n",
       "    .dataframe thead th {\n",
       "        text-align: right;\n",
       "    }\n",
       "</style>\n",
       "<table border=\"1\" class=\"dataframe\">\n",
       "  <thead>\n",
       "    <tr style=\"text-align: right;\">\n",
       "      <th></th>\n",
       "      <th>log_price</th>\n",
       "      <th>log_minimo_noites</th>\n",
       "      <th>log_numero_de_reviews</th>\n",
       "      <th>log_calculado_host_listings_count</th>\n",
       "      <th>log_disponibilidade_365</th>\n",
       "      <th>bairro_group_Bronx</th>\n",
       "      <th>bairro_group_Brooklyn</th>\n",
       "      <th>bairro_group_Manhattan</th>\n",
       "      <th>bairro_group_Queens</th>\n",
       "      <th>bairro_group_Staten Island</th>\n",
       "      <th>room_type_Entire home/apt</th>\n",
       "      <th>room_type_Private room</th>\n",
       "      <th>room_type_Shared room</th>\n",
       "    </tr>\n",
       "  </thead>\n",
       "  <tbody>\n",
       "    <tr>\n",
       "      <th>0</th>\n",
       "      <td>5.416100</td>\n",
       "      <td>0.000000</td>\n",
       "      <td>3.828641</td>\n",
       "      <td>0.693147</td>\n",
       "      <td>5.874931</td>\n",
       "      <td>0</td>\n",
       "      <td>0</td>\n",
       "      <td>1</td>\n",
       "      <td>0</td>\n",
       "      <td>0</td>\n",
       "      <td>1</td>\n",
       "      <td>0</td>\n",
       "      <td>0</td>\n",
       "    </tr>\n",
       "    <tr>\n",
       "      <th>1</th>\n",
       "      <td>5.010635</td>\n",
       "      <td>1.098612</td>\n",
       "      <td>0.000000</td>\n",
       "      <td>0.000000</td>\n",
       "      <td>5.902633</td>\n",
       "      <td>0</td>\n",
       "      <td>0</td>\n",
       "      <td>1</td>\n",
       "      <td>0</td>\n",
       "      <td>0</td>\n",
       "      <td>0</td>\n",
       "      <td>1</td>\n",
       "      <td>0</td>\n",
       "    </tr>\n",
       "  </tbody>\n",
       "</table>\n",
       "</div>"
      ],
      "text/plain": [
       "   log_price  log_minimo_noites  log_numero_de_reviews  \\\n",
       "0   5.416100           0.000000               3.828641   \n",
       "1   5.010635           1.098612               0.000000   \n",
       "\n",
       "   log_calculado_host_listings_count  log_disponibilidade_365  \\\n",
       "0                           0.693147                 5.874931   \n",
       "1                           0.000000                 5.902633   \n",
       "\n",
       "   bairro_group_Bronx  bairro_group_Brooklyn  bairro_group_Manhattan  \\\n",
       "0                   0                      0                       1   \n",
       "1                   0                      0                       1   \n",
       "\n",
       "   bairro_group_Queens  bairro_group_Staten Island  room_type_Entire home/apt  \\\n",
       "0                    0                           0                          1   \n",
       "1                    0                           0                          0   \n",
       "\n",
       "   room_type_Private room  room_type_Shared room  \n",
       "0                       0                      0  \n",
       "1                       1                      0  "
      ]
     },
     "execution_count": 217,
     "metadata": {},
     "output_type": "execute_result"
    }
   ],
   "source": [
    "#aplicando onehotenconder com o get_dummies do pandas na coluna 'bairro_group'\n",
    "dados_log = pd.get_dummies(dados_log, columns=['bairro_group'], dtype=int)\n",
    "\n",
    "#aplicando onehotenconder com o get_dummies do pandas na coluna 'room_type'\n",
    "dados_log = pd.get_dummies(dados_log, columns=['room_type'], dtype=int)\n",
    "\n",
    "dados_log.head(2)"
   ]
  },
  {
   "cell_type": "code",
   "execution_count": 218,
   "metadata": {},
   "outputs": [
    {
     "data": {
      "text/html": [
       "<div>\n",
       "<style scoped>\n",
       "    .dataframe tbody tr th:only-of-type {\n",
       "        vertical-align: middle;\n",
       "    }\n",
       "\n",
       "    .dataframe tbody tr th {\n",
       "        vertical-align: top;\n",
       "    }\n",
       "\n",
       "    .dataframe thead th {\n",
       "        text-align: right;\n",
       "    }\n",
       "</style>\n",
       "<table border=\"1\" class=\"dataframe\">\n",
       "  <thead>\n",
       "    <tr style=\"text-align: right;\">\n",
       "      <th></th>\n",
       "      <th>log_price</th>\n",
       "      <th>log_minimo_noites</th>\n",
       "      <th>log_numero_de_reviews</th>\n",
       "      <th>log_calculado_host_listings_count</th>\n",
       "      <th>log_disponibilidade_365</th>\n",
       "      <th>bairro_group_Bronx</th>\n",
       "      <th>bairro_group_Brooklyn</th>\n",
       "      <th>bairro_group_Manhattan</th>\n",
       "      <th>bairro_group_Queens</th>\n",
       "      <th>bairro_group_Staten_Island</th>\n",
       "      <th>room_type_Entire_home_apt</th>\n",
       "      <th>room_type_Private_room</th>\n",
       "      <th>room_type_Shared_room</th>\n",
       "    </tr>\n",
       "  </thead>\n",
       "  <tbody>\n",
       "    <tr>\n",
       "      <th>0</th>\n",
       "      <td>5.416100</td>\n",
       "      <td>0.000000</td>\n",
       "      <td>3.828641</td>\n",
       "      <td>0.693147</td>\n",
       "      <td>5.874931</td>\n",
       "      <td>0</td>\n",
       "      <td>0</td>\n",
       "      <td>1</td>\n",
       "      <td>0</td>\n",
       "      <td>0</td>\n",
       "      <td>1</td>\n",
       "      <td>0</td>\n",
       "      <td>0</td>\n",
       "    </tr>\n",
       "    <tr>\n",
       "      <th>1</th>\n",
       "      <td>5.010635</td>\n",
       "      <td>1.098612</td>\n",
       "      <td>0.000000</td>\n",
       "      <td>0.000000</td>\n",
       "      <td>5.902633</td>\n",
       "      <td>0</td>\n",
       "      <td>0</td>\n",
       "      <td>1</td>\n",
       "      <td>0</td>\n",
       "      <td>0</td>\n",
       "      <td>0</td>\n",
       "      <td>1</td>\n",
       "      <td>0</td>\n",
       "    </tr>\n",
       "  </tbody>\n",
       "</table>\n",
       "</div>"
      ],
      "text/plain": [
       "   log_price  log_minimo_noites  log_numero_de_reviews  \\\n",
       "0   5.416100           0.000000               3.828641   \n",
       "1   5.010635           1.098612               0.000000   \n",
       "\n",
       "   log_calculado_host_listings_count  log_disponibilidade_365  \\\n",
       "0                           0.693147                 5.874931   \n",
       "1                           0.000000                 5.902633   \n",
       "\n",
       "   bairro_group_Bronx  bairro_group_Brooklyn  bairro_group_Manhattan  \\\n",
       "0                   0                      0                       1   \n",
       "1                   0                      0                       1   \n",
       "\n",
       "   bairro_group_Queens  bairro_group_Staten_Island  room_type_Entire_home_apt  \\\n",
       "0                    0                           0                          1   \n",
       "1                    0                           0                          0   \n",
       "\n",
       "   room_type_Private_room  room_type_Shared_room  \n",
       "0                       0                      0  \n",
       "1                       1                      0  "
      ]
     },
     "execution_count": 218,
     "metadata": {},
     "output_type": "execute_result"
    }
   ],
   "source": [
    "#arrumando o nome das colunas que possuem espaço para nao ter problemas depois\n",
    "dados_log.rename(columns={'bairro_group_Staten Island': 'bairro_group_Staten_Island'}, inplace=True)\n",
    "dados_log.rename(columns={'room_type_Entire home/apt': 'room_type_Entire_home_apt'}, inplace=True)\n",
    "dados_log.rename(columns={'room_type_Private room': 'room_type_Private_room'}, inplace=True)\n",
    "dados_log.rename(columns={'room_type_Shared room': 'room_type_Shared_room'}, inplace=True)\n",
    "dados_log.head(2)"
   ]
  },
  {
   "cell_type": "code",
   "execution_count": 219,
   "metadata": {},
   "outputs": [
    {
     "data": {
      "text/plain": [
       "(48883, 13)"
      ]
     },
     "execution_count": 219,
     "metadata": {},
     "output_type": "execute_result"
    }
   ],
   "source": [
    "dados_log.shape"
   ]
  },
  {
   "cell_type": "markdown",
   "metadata": {},
   "source": [
    "Passamos de 7 atributos para 13 atributos, assim como esperado tivemos um aumento da dimensionalidade do nosso grupo de dados 'dados_log'."
   ]
  },
  {
   "cell_type": "markdown",
   "metadata": {},
   "source": [
    "### Criando a base de treino e de teste\n",
    "Aqui vou definir a base de treino e de teste baseado no meu data set 'dados_log', lembrando que meu objetivo aqui é criar estimativa para o preço dos imóveis."
   ]
  },
  {
   "cell_type": "code",
   "execution_count": 220,
   "metadata": {},
   "outputs": [],
   "source": [
    "from sklearn.model_selection import train_test_split\n",
    "\n",
    "y = dados_log.log_price\n",
    "\n",
    "X = dados_log[['log_minimo_noites', 'log_numero_de_reviews', 'log_calculado_host_listings_count', 'log_disponibilidade_365', \n",
    "               'bairro_group_Bronx', 'bairro_group_Brooklyn', 'bairro_group_Manhattan', 'bairro_group_Queens',\n",
    "               'bairro_group_Staten_Island', 'room_type_Entire_home_apt', 'room_type_Private_room', 'room_type_Shared_room']]\n",
    "\n",
    "X_train, X_test, y_train, y_test = train_test_split(X,y, test_size=0.25, random_state=42)"
   ]
  },
  {
   "cell_type": "markdown",
   "metadata": {},
   "source": [
    "### Aplicando o Statsmodel\n",
    "Essa biblioteca é para aplicar estimações de diversos tipos de modelos estatisticos, assim como testes e exploração."
   ]
  },
  {
   "cell_type": "code",
   "execution_count": 221,
   "metadata": {},
   "outputs": [],
   "source": [
    "import statsmodels.api as sm\n",
    "\n",
    "#aplicar a constante para o statmodels poder trabalhar seu parametro comparativo (intercepto na equação de regressao)\n",
    "X_train_constante = sm.add_constant(X_train)\n",
    "\n",
    "#hascont=true exige que seja passada o valor de constante 1 no modelo futuramente\n",
    "modelo = sm.OLS(y_train, X_train_constante, hasconst=True).fit()\n"
   ]
  },
  {
   "cell_type": "code",
   "execution_count": 225,
   "metadata": {},
   "outputs": [
    {
     "data": {
      "text/html": [
       "<div>\n",
       "<style scoped>\n",
       "    .dataframe tbody tr th:only-of-type {\n",
       "        vertical-align: middle;\n",
       "    }\n",
       "\n",
       "    .dataframe tbody tr th {\n",
       "        vertical-align: top;\n",
       "    }\n",
       "\n",
       "    .dataframe thead th {\n",
       "        text-align: right;\n",
       "    }\n",
       "</style>\n",
       "<table border=\"1\" class=\"dataframe\">\n",
       "  <thead>\n",
       "    <tr style=\"text-align: right;\">\n",
       "      <th></th>\n",
       "      <th>const</th>\n",
       "      <th>log_minimo_noites</th>\n",
       "      <th>log_numero_de_reviews</th>\n",
       "      <th>log_calculado_host_listings_count</th>\n",
       "      <th>log_disponibilidade_365</th>\n",
       "      <th>bairro_group_Bronx</th>\n",
       "      <th>bairro_group_Brooklyn</th>\n",
       "      <th>bairro_group_Manhattan</th>\n",
       "      <th>bairro_group_Queens</th>\n",
       "      <th>bairro_group_Staten_Island</th>\n",
       "      <th>room_type_Entire_home_apt</th>\n",
       "      <th>room_type_Private_room</th>\n",
       "      <th>room_type_Shared_room</th>\n",
       "    </tr>\n",
       "  </thead>\n",
       "  <tbody>\n",
       "    <tr>\n",
       "      <th>6002</th>\n",
       "      <td>1.0</td>\n",
       "      <td>0.693147</td>\n",
       "      <td>1.098612</td>\n",
       "      <td>0.000000</td>\n",
       "      <td>0.000000</td>\n",
       "      <td>0</td>\n",
       "      <td>0</td>\n",
       "      <td>1</td>\n",
       "      <td>0</td>\n",
       "      <td>0</td>\n",
       "      <td>1</td>\n",
       "      <td>0</td>\n",
       "      <td>0</td>\n",
       "    </tr>\n",
       "    <tr>\n",
       "      <th>30775</th>\n",
       "      <td>1.0</td>\n",
       "      <td>1.098612</td>\n",
       "      <td>2.708050</td>\n",
       "      <td>0.000000</td>\n",
       "      <td>5.123964</td>\n",
       "      <td>0</td>\n",
       "      <td>1</td>\n",
       "      <td>0</td>\n",
       "      <td>0</td>\n",
       "      <td>0</td>\n",
       "      <td>1</td>\n",
       "      <td>0</td>\n",
       "      <td>0</td>\n",
       "    </tr>\n",
       "    <tr>\n",
       "      <th>5198</th>\n",
       "      <td>1.0</td>\n",
       "      <td>0.693147</td>\n",
       "      <td>5.181784</td>\n",
       "      <td>0.000000</td>\n",
       "      <td>5.655992</td>\n",
       "      <td>0</td>\n",
       "      <td>0</td>\n",
       "      <td>1</td>\n",
       "      <td>0</td>\n",
       "      <td>0</td>\n",
       "      <td>0</td>\n",
       "      <td>1</td>\n",
       "      <td>0</td>\n",
       "    </tr>\n",
       "    <tr>\n",
       "      <th>18885</th>\n",
       "      <td>1.0</td>\n",
       "      <td>0.000000</td>\n",
       "      <td>2.708050</td>\n",
       "      <td>0.693147</td>\n",
       "      <td>5.521461</td>\n",
       "      <td>0</td>\n",
       "      <td>0</td>\n",
       "      <td>0</td>\n",
       "      <td>1</td>\n",
       "      <td>0</td>\n",
       "      <td>0</td>\n",
       "      <td>1</td>\n",
       "      <td>0</td>\n",
       "    </tr>\n",
       "    <tr>\n",
       "      <th>42374</th>\n",
       "      <td>1.0</td>\n",
       "      <td>1.098612</td>\n",
       "      <td>2.639057</td>\n",
       "      <td>0.693147</td>\n",
       "      <td>5.398163</td>\n",
       "      <td>0</td>\n",
       "      <td>0</td>\n",
       "      <td>0</td>\n",
       "      <td>1</td>\n",
       "      <td>0</td>\n",
       "      <td>0</td>\n",
       "      <td>1</td>\n",
       "      <td>0</td>\n",
       "    </tr>\n",
       "    <tr>\n",
       "      <th>...</th>\n",
       "      <td>...</td>\n",
       "      <td>...</td>\n",
       "      <td>...</td>\n",
       "      <td>...</td>\n",
       "      <td>...</td>\n",
       "      <td>...</td>\n",
       "      <td>...</td>\n",
       "      <td>...</td>\n",
       "      <td>...</td>\n",
       "      <td>...</td>\n",
       "      <td>...</td>\n",
       "      <td>...</td>\n",
       "      <td>...</td>\n",
       "    </tr>\n",
       "    <tr>\n",
       "      <th>11284</th>\n",
       "      <td>1.0</td>\n",
       "      <td>1.098612</td>\n",
       "      <td>4.962845</td>\n",
       "      <td>0.693147</td>\n",
       "      <td>5.351858</td>\n",
       "      <td>0</td>\n",
       "      <td>0</td>\n",
       "      <td>1</td>\n",
       "      <td>0</td>\n",
       "      <td>0</td>\n",
       "      <td>0</td>\n",
       "      <td>1</td>\n",
       "      <td>0</td>\n",
       "    </tr>\n",
       "    <tr>\n",
       "      <th>44743</th>\n",
       "      <td>1.0</td>\n",
       "      <td>1.609438</td>\n",
       "      <td>1.386294</td>\n",
       "      <td>0.000000</td>\n",
       "      <td>4.787492</td>\n",
       "      <td>0</td>\n",
       "      <td>0</td>\n",
       "      <td>1</td>\n",
       "      <td>0</td>\n",
       "      <td>0</td>\n",
       "      <td>1</td>\n",
       "      <td>0</td>\n",
       "      <td>0</td>\n",
       "    </tr>\n",
       "    <tr>\n",
       "      <th>38169</th>\n",
       "      <td>1.0</td>\n",
       "      <td>1.098612</td>\n",
       "      <td>1.098612</td>\n",
       "      <td>0.000000</td>\n",
       "      <td>0.000000</td>\n",
       "      <td>0</td>\n",
       "      <td>0</td>\n",
       "      <td>0</td>\n",
       "      <td>1</td>\n",
       "      <td>0</td>\n",
       "      <td>1</td>\n",
       "      <td>0</td>\n",
       "      <td>0</td>\n",
       "    </tr>\n",
       "    <tr>\n",
       "      <th>860</th>\n",
       "      <td>1.0</td>\n",
       "      <td>1.098612</td>\n",
       "      <td>5.468060</td>\n",
       "      <td>0.693147</td>\n",
       "      <td>5.493061</td>\n",
       "      <td>0</td>\n",
       "      <td>1</td>\n",
       "      <td>0</td>\n",
       "      <td>0</td>\n",
       "      <td>0</td>\n",
       "      <td>1</td>\n",
       "      <td>0</td>\n",
       "      <td>0</td>\n",
       "    </tr>\n",
       "    <tr>\n",
       "      <th>15795</th>\n",
       "      <td>1.0</td>\n",
       "      <td>0.000000</td>\n",
       "      <td>1.386294</td>\n",
       "      <td>0.000000</td>\n",
       "      <td>0.000000</td>\n",
       "      <td>0</td>\n",
       "      <td>0</td>\n",
       "      <td>1</td>\n",
       "      <td>0</td>\n",
       "      <td>0</td>\n",
       "      <td>0</td>\n",
       "      <td>1</td>\n",
       "      <td>0</td>\n",
       "    </tr>\n",
       "  </tbody>\n",
       "</table>\n",
       "<p>36662 rows × 13 columns</p>\n",
       "</div>"
      ],
      "text/plain": [
       "       const  log_minimo_noites  log_numero_de_reviews  \\\n",
       "6002     1.0           0.693147               1.098612   \n",
       "30775    1.0           1.098612               2.708050   \n",
       "5198     1.0           0.693147               5.181784   \n",
       "18885    1.0           0.000000               2.708050   \n",
       "42374    1.0           1.098612               2.639057   \n",
       "...      ...                ...                    ...   \n",
       "11284    1.0           1.098612               4.962845   \n",
       "44743    1.0           1.609438               1.386294   \n",
       "38169    1.0           1.098612               1.098612   \n",
       "860      1.0           1.098612               5.468060   \n",
       "15795    1.0           0.000000               1.386294   \n",
       "\n",
       "       log_calculado_host_listings_count  log_disponibilidade_365  \\\n",
       "6002                            0.000000                 0.000000   \n",
       "30775                           0.000000                 5.123964   \n",
       "5198                            0.000000                 5.655992   \n",
       "18885                           0.693147                 5.521461   \n",
       "42374                           0.693147                 5.398163   \n",
       "...                                  ...                      ...   \n",
       "11284                           0.693147                 5.351858   \n",
       "44743                           0.000000                 4.787492   \n",
       "38169                           0.000000                 0.000000   \n",
       "860                             0.693147                 5.493061   \n",
       "15795                           0.000000                 0.000000   \n",
       "\n",
       "       bairro_group_Bronx  bairro_group_Brooklyn  bairro_group_Manhattan  \\\n",
       "6002                    0                      0                       1   \n",
       "30775                   0                      1                       0   \n",
       "5198                    0                      0                       1   \n",
       "18885                   0                      0                       0   \n",
       "42374                   0                      0                       0   \n",
       "...                   ...                    ...                     ...   \n",
       "11284                   0                      0                       1   \n",
       "44743                   0                      0                       1   \n",
       "38169                   0                      0                       0   \n",
       "860                     0                      1                       0   \n",
       "15795                   0                      0                       1   \n",
       "\n",
       "       bairro_group_Queens  bairro_group_Staten_Island  \\\n",
       "6002                     0                           0   \n",
       "30775                    0                           0   \n",
       "5198                     0                           0   \n",
       "18885                    1                           0   \n",
       "42374                    1                           0   \n",
       "...                    ...                         ...   \n",
       "11284                    0                           0   \n",
       "44743                    0                           0   \n",
       "38169                    1                           0   \n",
       "860                      0                           0   \n",
       "15795                    0                           0   \n",
       "\n",
       "       room_type_Entire_home_apt  room_type_Private_room  \\\n",
       "6002                           1                       0   \n",
       "30775                          1                       0   \n",
       "5198                           0                       1   \n",
       "18885                          0                       1   \n",
       "42374                          0                       1   \n",
       "...                          ...                     ...   \n",
       "11284                          0                       1   \n",
       "44743                          1                       0   \n",
       "38169                          1                       0   \n",
       "860                            1                       0   \n",
       "15795                          0                       1   \n",
       "\n",
       "       room_type_Shared_room  \n",
       "6002                       0  \n",
       "30775                      0  \n",
       "5198                       0  \n",
       "18885                      0  \n",
       "42374                      0  \n",
       "...                      ...  \n",
       "11284                      0  \n",
       "44743                      0  \n",
       "38169                      0  \n",
       "860                        0  \n",
       "15795                      0  \n",
       "\n",
       "[36662 rows x 13 columns]"
      ]
     },
     "execution_count": 225,
     "metadata": {},
     "output_type": "execute_result"
    }
   ],
   "source": [
    "X_train_constante"
   ]
  },
  {
   "cell_type": "code",
   "execution_count": 222,
   "metadata": {},
   "outputs": [
    {
     "name": "stdout",
     "output_type": "stream",
     "text": [
      "                            OLS Regression Results                            \n",
      "==============================================================================\n",
      "Dep. Variable:              log_price   R-squared:                       0.488\n",
      "Model:                            OLS   Adj. R-squared:                  0.488\n",
      "Method:                 Least Squares   F-statistic:                     3493.\n",
      "Date:                Mon, 12 Feb 2024   Prob (F-statistic):               0.00\n",
      "Time:                        20:29:11   Log-Likelihood:                -26658.\n",
      "No. Observations:               36662   AIC:                         5.334e+04\n",
      "Df Residuals:                   36651   BIC:                         5.343e+04\n",
      "Df Model:                          10                                         \n",
      "Covariance Type:            nonrobust                                         \n",
      "=====================================================================================================\n",
      "                                        coef    std err          t      P>|t|      [0.025      0.975]\n",
      "-----------------------------------------------------------------------------------------------------\n",
      "const                                 2.8203      0.007    416.207      0.000       2.807       2.834\n",
      "log_minimo_noites                    -0.0815      0.003    -30.088      0.000      -0.087      -0.076\n",
      "log_numero_de_reviews                -0.0579      0.002    -31.533      0.000      -0.061      -0.054\n",
      "log_calculado_host_listings_count    -0.0070      0.003     -2.461      0.014      -0.013      -0.001\n",
      "log_disponibilidade_365               0.0491      0.001     39.827      0.000       0.047       0.051\n",
      "bairro_group_Bronx                    0.3564      0.016     22.782      0.000       0.326       0.387\n",
      "bairro_group_Brooklyn                 0.6389      0.007     88.394      0.000       0.625       0.653\n",
      "bairro_group_Manhattan                0.9605      0.007    132.818      0.000       0.946       0.975\n",
      "bairro_group_Queens                   0.4809      0.009     54.022      0.000       0.463       0.498\n",
      "bairro_group_Staten_Island            0.3836      0.025     15.180      0.000       0.334       0.433\n",
      "room_type_Entire_home_apt             1.6176      0.006    276.366      0.000       1.606       1.629\n",
      "room_type_Private_room                0.8064      0.006    142.493      0.000       0.795       0.818\n",
      "room_type_Shared_room                 0.3963      0.013     30.942      0.000       0.371       0.421\n",
      "==============================================================================\n",
      "Omnibus:                    10293.472   Durbin-Watson:                   1.998\n",
      "Prob(Omnibus):                  0.000   Jarque-Bera (JB):            59030.000\n",
      "Skew:                           1.230   Prob(JB):                         0.00\n",
      "Kurtosis:                       8.709   Cond. No.                     5.62e+16\n",
      "==============================================================================\n",
      "\n",
      "Notes:\n",
      "[1] Standard Errors assume that the covariance matrix of the errors is correctly specified.\n",
      "[2] The smallest eigenvalue is 2.53e-28. This might indicate that there are\n",
      "strong multicollinearity problems or that the design matrix is singular.\n"
     ]
    }
   ],
   "source": [
    "print(modelo.summary())"
   ]
  },
  {
   "cell_type": "markdown",
   "metadata": {},
   "source": [
    "A probabilidade que apresentamos na parte de F-estatistic é 0, se ele fosse maior que 0.05 deveriamos desconsiderar esse modelo, como é zero indica que <b>meu modelo é estatisticamente valido e consideravel</b>.<br>\n",
    "Também temos o valor <b>R-squared, o nosso r², equivalente ao adj.R-squared, o que indica que é um modelo que leva em consideração todos as variaveis e elas contribuem para nosso modelo. Entretanto o R² leva o fator de aproximadamente 50%</b> apenas. Aqui também temos varias variáveis independentes entre si, mas o valor de R-squared pode ser afetado por outliers e deve ser interpretado cuidadosamente, pois o valor R² pode não estar ajustado corretamente, devido a presença dos outiliers que foram trabalhados anteriormente. <br>\n",
    "Para os testes individuais dos nosso parâmetros temos um valor de 0.014 no 'log_calculado_host_listings_count', ainda passa no teste, sendo menor que 0.05."
   ]
  },
  {
   "cell_type": "markdown",
   "metadata": {},
   "source": [
    "Vale ressaltar alguns pontos relevantes da utilização desse modelo:\n",
    "* Modelo mais simples:  definido com uma equação, onde expressa a relação entre as variaveis escolhidas, além de levar em consideração todas as variáveis que colocamos dentro do nosso dataset e todas elas terem valores relativamente consideraveis e devem ser utilizadas dentro da nossa previsão;\n",
    "* Eficiente: ele é eficiente e calculado mais rapidos que outros modelo;\n",
    "* Consideravemente bem difundido e estudado: um tipo de modelo de ml bem difundido e bem utilizado em ciencia de dados;\n",
    "\n",
    "Pontos negativos:\n",
    "* Outliers: apesar do tratamento dos outliers eles ainda podem prejudicar a estimativa, gerando forte impacto na reta de regressão;\n",
    "* Dependencia de variaveis: ele pode assumir grande dependencia entre as variaveis;\n",
    "* Variação: esse tipo de modelo define uma variação constante em torno da média;\n",
    "* Quantidade de variaveis: temos uma quantidade consideravel de variaveis, onde pode afetar o modelo se fosse um conjunto de dados maior."
   ]
  },
  {
   "cell_type": "markdown",
   "metadata": {},
   "source": [
    "### A previsão de preço\n",
    "Agora faremos a previsão com os dados no desafio e aplicaremos dentro do nosso conjunto de dados. Importante lembrar que fizemos a transformação logaritma para trabalhar com os outliers e termos uma curva próxima da normal, então é necessário retornar do log para encontrar um valor estimado verdadeiro."
   ]
  },
  {
   "cell_type": "code",
   "execution_count": 223,
   "metadata": {},
   "outputs": [
    {
     "name": "stdout",
     "output_type": "stream",
     "text": [
      "O valor estimado para o imóvel disponibilizado no desafio é de $235.41\n"
     ]
    }
   ],
   "source": [
    "constante = 1\n",
    "minimo_noites = 1\n",
    "numero_de_reviews = 45\n",
    "calculado_host_listings_count = 2\n",
    "disponibilidade_365 = 355\n",
    "bairro_group_Bronx = 0\n",
    "bairro_group_Brooklyn = 0\n",
    "bairro_group_Manhattan = 1\n",
    "bairro_group_Queens = 0\n",
    "bairro_group_Staten_Island = 0\n",
    "room_type_Entire_home_apt = 1\n",
    "room_type_Private_room = 0\n",
    "room_type_Shared_room = 0\n",
    "\n",
    "entrada = [[constante, np.log(minimo_noites), np.log(numero_de_reviews), np.log(calculado_host_listings_count), np.log(disponibilidade_365),\n",
    "            bairro_group_Bronx, bairro_group_Brooklyn, bairro_group_Manhattan, bairro_group_Queens, bairro_group_Staten_Island, \n",
    "            room_type_Entire_home_apt, room_type_Private_room, room_type_Shared_room]]\n",
    "\n",
    "print('O valor estimado para o imóvel disponibilizado no desafio é de ${:.2f}'.format(np.exp(modelo.predict(entrada)[0])))"
   ]
  },
  {
   "cell_type": "markdown",
   "metadata": {},
   "source": [
    "A previsão do valor do imóvel dentro do nosso conjunto de dados é de <b>$235.41.</b><br>\n",
    "Vale ressaltar a necessidade de colocar a constante de valor 1 por termos colocado a constante comparativa para nosso modelo, citada acima."
   ]
  },
  {
   "cell_type": "markdown",
   "metadata": {},
   "source": [
    "## Salvando o modelo\n",
    "Aqui vamos salvar o nosso modelo no formato 'pkl' para poder aplica-lo futuramente."
   ]
  },
  {
   "cell_type": "code",
   "execution_count": 231,
   "metadata": {},
   "outputs": [],
   "source": [
    "import pickle\n",
    "\n",
    "saida = open('modelo_fabio_dias.pkl', 'wb')\n",
    "pickle.dump(modelo, saida)\n",
    "saida.close()"
   ]
  },
  {
   "cell_type": "markdown",
   "metadata": {},
   "source": [
    "# Agradecimentos e considerações finais\n",
    "Gostaria de agradecer a empresa Indicium pela oportunidade e pelo desafio, foram muitas horas investidas nesse projeto que me orgulho de ter desenvolvido e que trouxe muito aprendizado que utilizarei em minha carreira. Fico muito feliz pelo trabalho realizado, mas também gostaria de ter mais tempo para continuar melhorando tudo aquilo que foi desenvolvido aqui, fico com a sensação de trabalho concluido, mas também a sensação de poder fazer ainda mais. </br>\n",
    "Enquanto eu revisava tudo o que foi desenvolvido eu pensei em várias possiveis melhorias e novas análises que eu consideraria fazer, principalmente pensando se estivesse fazendo um trabalho real em uma empresa quais pontos eu iria consultar com pessoas mais experientes que eu, então vou listar aqui os pontos que achei relevante e que caberiam revisão, considero que são pontos que poderia melhorar futuramente nesse projeto.\n",
    "* T-test das regiões do Brooklyn e de Manhattan, uma vez que era cabivel aplicar esse teste estatistico para verificar a diferença dos valores residênciais dessas regiões;\n",
    "* Conferir a quantidade de noites minimas, otuliers e a matriz de correlação dos outros fatores dentro do meu conjunto de dados;\n",
    "* Acredito que uma possivel separação das regiões e uma análise especifica dos bairros dentro dessa região poderia trazer mais precisão para a afirmação de preços das casas e um modelo com melhor predição, entretanto dentro do conjunto de dados são mais de 200 bairros diferentes e eu não consegui pensar em caminhos a seguir para fazer essa analise e nem se ela valeria o tempo investido, uma vez que tenho a limitação de tempo desse projeto;\n",
    "* Aplicação do labelEnconder e comparação com a previsão dos resultados do oneHotEncode, gostaria de mais tempo para trabalhar unica e exclusivamente nessa comparação, pois minha escolha foi baseada apenas nas referências e na base de dados que eu tinha, nao consegui verificar se geraria uma ordinalidade nos dados e achei essa hipotese muito interessante e que pode ser aplicada em casos especificos.\n",
    "\n",
    "No mais eu fico ansioso pelo retorno da empresa, li boa parte do site e achei impressionante o que vocês construiram e como trabalham, além das diversas premiações pelo bom trabalho que a empresa consegue desenvolver."
   ]
  }
 ],
 "metadata": {
  "kernelspec": {
   "display_name": "Python 3",
   "language": "python",
   "name": "python3"
  },
  "language_info": {
   "codemirror_mode": {
    "name": "ipython",
    "version": 3
   },
   "file_extension": ".py",
   "mimetype": "text/x-python",
   "name": "python",
   "nbconvert_exporter": "python",
   "pygments_lexer": "ipython3",
   "version": "3.10.12"
  }
 },
 "nbformat": 4,
 "nbformat_minor": 2
}
